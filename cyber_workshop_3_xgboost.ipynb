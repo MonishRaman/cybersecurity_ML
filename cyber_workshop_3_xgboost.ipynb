{
  "nbformat": 4,
  "nbformat_minor": 0,
  "metadata": {
    "colab": {
      "provenance": [],
      "authorship_tag": "ABX9TyOnbeeSRYcjLkyIqEpUgFL2",
      "include_colab_link": true
    },
    "kernelspec": {
      "name": "python3",
      "display_name": "Python 3"
    },
    "language_info": {
      "name": "python"
    }
  },
  "cells": [
    {
      "cell_type": "markdown",
      "metadata": {
        "id": "view-in-github",
        "colab_type": "text"
      },
      "source": [
        "<a href=\"https://colab.research.google.com/github/kareemullah123456789/cybersecurity_ML/blob/main/cyber_workshop_3_xgboost.ipynb\" target=\"_parent\"><img src=\"https://colab.research.google.com/assets/colab-badge.svg\" alt=\"Open In Colab\"/></a>"
      ]
    },
    {
      "cell_type": "code",
      "execution_count": null,
      "metadata": {
        "colab": {
          "base_uri": "https://localhost:8080/"
        },
        "id": "D2rLE4AQf28H",
        "outputId": "588cad85-eed6-4ef7-8889-2c38f6ae2a76"
      },
      "outputs": [
        {
          "output_type": "stream",
          "name": "stdout",
          "text": [
            "Mounted at /content/drive\n"
          ]
        }
      ],
      "source": [
        "from google.colab import drive\n",
        "drive.mount('/content/drive')"
      ]
    },
    {
      "cell_type": "code",
      "source": [
        "import pandas as pd\n",
        "import numpy as np\n",
        "from sklearn.model_selection import train_test_split\n",
        "from sklearn.preprocessing import StandardScaler, OneHotEncoder\n",
        "from sklearn.impute import SimpleImputer\n",
        "from sklearn.compose import ColumnTransformer\n",
        "from sklearn.pipeline import Pipeline\n",
        "\n",
        "\n",
        "\n",
        "from sklearn.metrics import classification_report, confusion_matrix, roc_auc_score\n",
        "\n",
        "# -------------------------------\n",
        "# 2. Load and Merge Data\n",
        "# -------------------------------\n",
        "import os\n",
        "base_path = '/content/drive/MyDrive/cybersecurity_data/data'\n",
        "users = pd.read_csv(os.path.join(base_path,\"users.csv\"))\n",
        "devices = pd.read_csv(os.path.join(base_path,\"devices.csv\"))\n",
        "traffic = pd.read_csv(os.path.join(base_path,\"network_traffic.csv\"))\n",
        "\n",
        "df = traffic.merge(users, on=\"user_id\", how=\"left\")\n",
        "df = df.merge(devices, on=\"device_id\", how=\"left\")\n"
      ],
      "metadata": {
        "id": "qOm9NUHIgERF"
      },
      "execution_count": null,
      "outputs": []
    },
    {
      "cell_type": "code",
      "source": [
        "df.head(2)"
      ],
      "metadata": {
        "colab": {
          "base_uri": "https://localhost:8080/",
          "height": 201
        },
        "id": "gwcWelS0gEYX",
        "outputId": "42f216ed-554c-4fa9-cd77-0e4021ced852"
      },
      "execution_count": null,
      "outputs": [
        {
          "output_type": "execute_result",
          "data": {
            "text/plain": [
              "   log_id      user_id device_id            timestamp           src_ip  \\\n",
              "0  T00001  USR_EMP0028     D0403  2022-02-19 08:39:32  192.168.215.198   \n",
              "1  T00002  USR_EMP0055     D0282  2022-01-27 01:57:06    192.168.8.133   \n",
              "\n",
              "         dst_ip protocol  port  bytes_sent  bytes_received  duration  \\\n",
              "0    10.0.241.5      SSH  22.0      6762.0          4230.0     23.31   \n",
              "1  10.0.126.225     SMTP  25.0      2749.0           521.0     32.80   \n",
              "\n",
              "   is_anomaly               username department            role device_type  \\\n",
              "0           1  e_tifcs28@company.com         HR       Recruiter      Laptop   \n",
              "1           0  e_hodhj55@company.com  Marketing  SEO Specialist     Desktop   \n",
              "\n",
              "             os  \n",
              "0  Ubuntu 22.04  \n",
              "1  Ubuntu 20.04  "
            ],
            "text/html": [
              "\n",
              "  <div id=\"df-e8507d08-e341-4455-8c67-48d323b4e6bf\" class=\"colab-df-container\">\n",
              "    <div>\n",
              "<style scoped>\n",
              "    .dataframe tbody tr th:only-of-type {\n",
              "        vertical-align: middle;\n",
              "    }\n",
              "\n",
              "    .dataframe tbody tr th {\n",
              "        vertical-align: top;\n",
              "    }\n",
              "\n",
              "    .dataframe thead th {\n",
              "        text-align: right;\n",
              "    }\n",
              "</style>\n",
              "<table border=\"1\" class=\"dataframe\">\n",
              "  <thead>\n",
              "    <tr style=\"text-align: right;\">\n",
              "      <th></th>\n",
              "      <th>log_id</th>\n",
              "      <th>user_id</th>\n",
              "      <th>device_id</th>\n",
              "      <th>timestamp</th>\n",
              "      <th>src_ip</th>\n",
              "      <th>dst_ip</th>\n",
              "      <th>protocol</th>\n",
              "      <th>port</th>\n",
              "      <th>bytes_sent</th>\n",
              "      <th>bytes_received</th>\n",
              "      <th>duration</th>\n",
              "      <th>is_anomaly</th>\n",
              "      <th>username</th>\n",
              "      <th>department</th>\n",
              "      <th>role</th>\n",
              "      <th>device_type</th>\n",
              "      <th>os</th>\n",
              "    </tr>\n",
              "  </thead>\n",
              "  <tbody>\n",
              "    <tr>\n",
              "      <th>0</th>\n",
              "      <td>T00001</td>\n",
              "      <td>USR_EMP0028</td>\n",
              "      <td>D0403</td>\n",
              "      <td>2022-02-19 08:39:32</td>\n",
              "      <td>192.168.215.198</td>\n",
              "      <td>10.0.241.5</td>\n",
              "      <td>SSH</td>\n",
              "      <td>22.0</td>\n",
              "      <td>6762.0</td>\n",
              "      <td>4230.0</td>\n",
              "      <td>23.31</td>\n",
              "      <td>1</td>\n",
              "      <td>e_tifcs28@company.com</td>\n",
              "      <td>HR</td>\n",
              "      <td>Recruiter</td>\n",
              "      <td>Laptop</td>\n",
              "      <td>Ubuntu 22.04</td>\n",
              "    </tr>\n",
              "    <tr>\n",
              "      <th>1</th>\n",
              "      <td>T00002</td>\n",
              "      <td>USR_EMP0055</td>\n",
              "      <td>D0282</td>\n",
              "      <td>2022-01-27 01:57:06</td>\n",
              "      <td>192.168.8.133</td>\n",
              "      <td>10.0.126.225</td>\n",
              "      <td>SMTP</td>\n",
              "      <td>25.0</td>\n",
              "      <td>2749.0</td>\n",
              "      <td>521.0</td>\n",
              "      <td>32.80</td>\n",
              "      <td>0</td>\n",
              "      <td>e_hodhj55@company.com</td>\n",
              "      <td>Marketing</td>\n",
              "      <td>SEO Specialist</td>\n",
              "      <td>Desktop</td>\n",
              "      <td>Ubuntu 20.04</td>\n",
              "    </tr>\n",
              "  </tbody>\n",
              "</table>\n",
              "</div>\n",
              "    <div class=\"colab-df-buttons\">\n",
              "\n",
              "  <div class=\"colab-df-container\">\n",
              "    <button class=\"colab-df-convert\" onclick=\"convertToInteractive('df-e8507d08-e341-4455-8c67-48d323b4e6bf')\"\n",
              "            title=\"Convert this dataframe to an interactive table.\"\n",
              "            style=\"display:none;\">\n",
              "\n",
              "  <svg xmlns=\"http://www.w3.org/2000/svg\" height=\"24px\" viewBox=\"0 -960 960 960\">\n",
              "    <path d=\"M120-120v-720h720v720H120Zm60-500h600v-160H180v160Zm220 220h160v-160H400v160Zm0 220h160v-160H400v160ZM180-400h160v-160H180v160Zm440 0h160v-160H620v160ZM180-180h160v-160H180v160Zm440 0h160v-160H620v160Z\"/>\n",
              "  </svg>\n",
              "    </button>\n",
              "\n",
              "  <style>\n",
              "    .colab-df-container {\n",
              "      display:flex;\n",
              "      gap: 12px;\n",
              "    }\n",
              "\n",
              "    .colab-df-convert {\n",
              "      background-color: #E8F0FE;\n",
              "      border: none;\n",
              "      border-radius: 50%;\n",
              "      cursor: pointer;\n",
              "      display: none;\n",
              "      fill: #1967D2;\n",
              "      height: 32px;\n",
              "      padding: 0 0 0 0;\n",
              "      width: 32px;\n",
              "    }\n",
              "\n",
              "    .colab-df-convert:hover {\n",
              "      background-color: #E2EBFA;\n",
              "      box-shadow: 0px 1px 2px rgba(60, 64, 67, 0.3), 0px 1px 3px 1px rgba(60, 64, 67, 0.15);\n",
              "      fill: #174EA6;\n",
              "    }\n",
              "\n",
              "    .colab-df-buttons div {\n",
              "      margin-bottom: 4px;\n",
              "    }\n",
              "\n",
              "    [theme=dark] .colab-df-convert {\n",
              "      background-color: #3B4455;\n",
              "      fill: #D2E3FC;\n",
              "    }\n",
              "\n",
              "    [theme=dark] .colab-df-convert:hover {\n",
              "      background-color: #434B5C;\n",
              "      box-shadow: 0px 1px 3px 1px rgba(0, 0, 0, 0.15);\n",
              "      filter: drop-shadow(0px 1px 2px rgba(0, 0, 0, 0.3));\n",
              "      fill: #FFFFFF;\n",
              "    }\n",
              "  </style>\n",
              "\n",
              "    <script>\n",
              "      const buttonEl =\n",
              "        document.querySelector('#df-e8507d08-e341-4455-8c67-48d323b4e6bf button.colab-df-convert');\n",
              "      buttonEl.style.display =\n",
              "        google.colab.kernel.accessAllowed ? 'block' : 'none';\n",
              "\n",
              "      async function convertToInteractive(key) {\n",
              "        const element = document.querySelector('#df-e8507d08-e341-4455-8c67-48d323b4e6bf');\n",
              "        const dataTable =\n",
              "          await google.colab.kernel.invokeFunction('convertToInteractive',\n",
              "                                                    [key], {});\n",
              "        if (!dataTable) return;\n",
              "\n",
              "        const docLinkHtml = 'Like what you see? Visit the ' +\n",
              "          '<a target=\"_blank\" href=https://colab.research.google.com/notebooks/data_table.ipynb>data table notebook</a>'\n",
              "          + ' to learn more about interactive tables.';\n",
              "        element.innerHTML = '';\n",
              "        dataTable['output_type'] = 'display_data';\n",
              "        await google.colab.output.renderOutput(dataTable, element);\n",
              "        const docLink = document.createElement('div');\n",
              "        docLink.innerHTML = docLinkHtml;\n",
              "        element.appendChild(docLink);\n",
              "      }\n",
              "    </script>\n",
              "  </div>\n",
              "\n",
              "\n",
              "    <div id=\"df-0c173f38-9586-447a-908a-ed73ae5b3425\">\n",
              "      <button class=\"colab-df-quickchart\" onclick=\"quickchart('df-0c173f38-9586-447a-908a-ed73ae5b3425')\"\n",
              "                title=\"Suggest charts\"\n",
              "                style=\"display:none;\">\n",
              "\n",
              "<svg xmlns=\"http://www.w3.org/2000/svg\" height=\"24px\"viewBox=\"0 0 24 24\"\n",
              "     width=\"24px\">\n",
              "    <g>\n",
              "        <path d=\"M19 3H5c-1.1 0-2 .9-2 2v14c0 1.1.9 2 2 2h14c1.1 0 2-.9 2-2V5c0-1.1-.9-2-2-2zM9 17H7v-7h2v7zm4 0h-2V7h2v10zm4 0h-2v-4h2v4z\"/>\n",
              "    </g>\n",
              "</svg>\n",
              "      </button>\n",
              "\n",
              "<style>\n",
              "  .colab-df-quickchart {\n",
              "      --bg-color: #E8F0FE;\n",
              "      --fill-color: #1967D2;\n",
              "      --hover-bg-color: #E2EBFA;\n",
              "      --hover-fill-color: #174EA6;\n",
              "      --disabled-fill-color: #AAA;\n",
              "      --disabled-bg-color: #DDD;\n",
              "  }\n",
              "\n",
              "  [theme=dark] .colab-df-quickchart {\n",
              "      --bg-color: #3B4455;\n",
              "      --fill-color: #D2E3FC;\n",
              "      --hover-bg-color: #434B5C;\n",
              "      --hover-fill-color: #FFFFFF;\n",
              "      --disabled-bg-color: #3B4455;\n",
              "      --disabled-fill-color: #666;\n",
              "  }\n",
              "\n",
              "  .colab-df-quickchart {\n",
              "    background-color: var(--bg-color);\n",
              "    border: none;\n",
              "    border-radius: 50%;\n",
              "    cursor: pointer;\n",
              "    display: none;\n",
              "    fill: var(--fill-color);\n",
              "    height: 32px;\n",
              "    padding: 0;\n",
              "    width: 32px;\n",
              "  }\n",
              "\n",
              "  .colab-df-quickchart:hover {\n",
              "    background-color: var(--hover-bg-color);\n",
              "    box-shadow: 0 1px 2px rgba(60, 64, 67, 0.3), 0 1px 3px 1px rgba(60, 64, 67, 0.15);\n",
              "    fill: var(--button-hover-fill-color);\n",
              "  }\n",
              "\n",
              "  .colab-df-quickchart-complete:disabled,\n",
              "  .colab-df-quickchart-complete:disabled:hover {\n",
              "    background-color: var(--disabled-bg-color);\n",
              "    fill: var(--disabled-fill-color);\n",
              "    box-shadow: none;\n",
              "  }\n",
              "\n",
              "  .colab-df-spinner {\n",
              "    border: 2px solid var(--fill-color);\n",
              "    border-color: transparent;\n",
              "    border-bottom-color: var(--fill-color);\n",
              "    animation:\n",
              "      spin 1s steps(1) infinite;\n",
              "  }\n",
              "\n",
              "  @keyframes spin {\n",
              "    0% {\n",
              "      border-color: transparent;\n",
              "      border-bottom-color: var(--fill-color);\n",
              "      border-left-color: var(--fill-color);\n",
              "    }\n",
              "    20% {\n",
              "      border-color: transparent;\n",
              "      border-left-color: var(--fill-color);\n",
              "      border-top-color: var(--fill-color);\n",
              "    }\n",
              "    30% {\n",
              "      border-color: transparent;\n",
              "      border-left-color: var(--fill-color);\n",
              "      border-top-color: var(--fill-color);\n",
              "      border-right-color: var(--fill-color);\n",
              "    }\n",
              "    40% {\n",
              "      border-color: transparent;\n",
              "      border-right-color: var(--fill-color);\n",
              "      border-top-color: var(--fill-color);\n",
              "    }\n",
              "    60% {\n",
              "      border-color: transparent;\n",
              "      border-right-color: var(--fill-color);\n",
              "    }\n",
              "    80% {\n",
              "      border-color: transparent;\n",
              "      border-right-color: var(--fill-color);\n",
              "      border-bottom-color: var(--fill-color);\n",
              "    }\n",
              "    90% {\n",
              "      border-color: transparent;\n",
              "      border-bottom-color: var(--fill-color);\n",
              "    }\n",
              "  }\n",
              "</style>\n",
              "\n",
              "      <script>\n",
              "        async function quickchart(key) {\n",
              "          const quickchartButtonEl =\n",
              "            document.querySelector('#' + key + ' button');\n",
              "          quickchartButtonEl.disabled = true;  // To prevent multiple clicks.\n",
              "          quickchartButtonEl.classList.add('colab-df-spinner');\n",
              "          try {\n",
              "            const charts = await google.colab.kernel.invokeFunction(\n",
              "                'suggestCharts', [key], {});\n",
              "          } catch (error) {\n",
              "            console.error('Error during call to suggestCharts:', error);\n",
              "          }\n",
              "          quickchartButtonEl.classList.remove('colab-df-spinner');\n",
              "          quickchartButtonEl.classList.add('colab-df-quickchart-complete');\n",
              "        }\n",
              "        (() => {\n",
              "          let quickchartButtonEl =\n",
              "            document.querySelector('#df-0c173f38-9586-447a-908a-ed73ae5b3425 button');\n",
              "          quickchartButtonEl.style.display =\n",
              "            google.colab.kernel.accessAllowed ? 'block' : 'none';\n",
              "        })();\n",
              "      </script>\n",
              "    </div>\n",
              "\n",
              "    </div>\n",
              "  </div>\n"
            ],
            "application/vnd.google.colaboratory.intrinsic+json": {
              "type": "dataframe",
              "variable_name": "df",
              "summary": "{\n  \"name\": \"df\",\n  \"rows\": 10000,\n  \"fields\": [\n    {\n      \"column\": \"log_id\",\n      \"properties\": {\n        \"dtype\": \"string\",\n        \"num_unique_values\": 9894,\n        \"samples\": [\n          \"T06547\",\n          \"T01515\",\n          \"T02248\"\n        ],\n        \"semantic_type\": \"\",\n        \"description\": \"\"\n      }\n    },\n    {\n      \"column\": \"user_id\",\n      \"properties\": {\n        \"dtype\": \"category\",\n        \"num_unique_values\": 200,\n        \"samples\": [\n          \"USR_EMP0082\",\n          \"USR_EMP0084\",\n          \"USR_EMP0011\"\n        ],\n        \"semantic_type\": \"\",\n        \"description\": \"\"\n      }\n    },\n    {\n      \"column\": \"device_id\",\n      \"properties\": {\n        \"dtype\": \"category\",\n        \"num_unique_values\": 500,\n        \"samples\": [\n          \"D0102\",\n          \"D0411\",\n          \"D0092\"\n        ],\n        \"semantic_type\": \"\",\n        \"description\": \"\"\n      }\n    },\n    {\n      \"column\": \"timestamp\",\n      \"properties\": {\n        \"dtype\": \"object\",\n        \"num_unique_values\": 9991,\n        \"samples\": [\n          \"2022-02-27 05:19:57\",\n          \"2022-01-25 16:33:01\",\n          \"2022-01-20 17:52:45\"\n        ],\n        \"semantic_type\": \"\",\n        \"description\": \"\"\n      }\n    },\n    {\n      \"column\": \"src_ip\",\n      \"properties\": {\n        \"dtype\": \"string\",\n        \"num_unique_values\": 9243,\n        \"samples\": [\n          \"192.168.19.111\",\n          \"192.168.134.103\",\n          \"192.168.77.131\"\n        ],\n        \"semantic_type\": \"\",\n        \"description\": \"\"\n      }\n    },\n    {\n      \"column\": \"dst_ip\",\n      \"properties\": {\n        \"dtype\": \"string\",\n        \"num_unique_values\": 9255,\n        \"samples\": [\n          \"10.0.67.209\",\n          \"10.0.87.40\",\n          \"10.0.224.199\"\n        ],\n        \"semantic_type\": \"\",\n        \"description\": \"\"\n      }\n    },\n    {\n      \"column\": \"protocol\",\n      \"properties\": {\n        \"dtype\": \"category\",\n        \"num_unique_values\": 6,\n        \"samples\": [\n          \"SSH\",\n          \"SMTP\",\n          \"RDP\"\n        ],\n        \"semantic_type\": \"\",\n        \"description\": \"\"\n      }\n    },\n    {\n      \"column\": \"port\",\n      \"properties\": {\n        \"dtype\": \"number\",\n        \"std\": 1224.8041791367782,\n        \"min\": 21.0,\n        \"max\": 3389.0,\n        \"num_unique_values\": 6,\n        \"samples\": [\n          22.0,\n          25.0,\n          3389.0\n        ],\n        \"semantic_type\": \"\",\n        \"description\": \"\"\n      }\n    },\n    {\n      \"column\": \"bytes_sent\",\n      \"properties\": {\n        \"dtype\": \"number\",\n        \"std\": 2854.8805584121756,\n        \"min\": 100.0,\n        \"max\": 10000.0,\n        \"num_unique_values\": 6245,\n        \"samples\": [\n          1433.0,\n          7480.0,\n          8848.0\n        ],\n        \"semantic_type\": \"\",\n        \"description\": \"\"\n      }\n    },\n    {\n      \"column\": \"bytes_received\",\n      \"properties\": {\n        \"dtype\": \"number\",\n        \"std\": 2849.4978027132806,\n        \"min\": 100.0,\n        \"max\": 10000.0,\n        \"num_unique_values\": 6273,\n        \"samples\": [\n          7976.0,\n          3449.0,\n          831.0\n        ],\n        \"semantic_type\": \"\",\n        \"description\": \"\"\n      }\n    },\n    {\n      \"column\": \"duration\",\n      \"properties\": {\n        \"dtype\": \"number\",\n        \"std\": 34.544199967242,\n        \"min\": 0.13,\n        \"max\": 119.99,\n        \"num_unique_values\": 6762,\n        \"samples\": [\n          113.21,\n          52.7,\n          39.74\n        ],\n        \"semantic_type\": \"\",\n        \"description\": \"\"\n      }\n    },\n    {\n      \"column\": \"is_anomaly\",\n      \"properties\": {\n        \"dtype\": \"number\",\n        \"std\": 0,\n        \"min\": 0,\n        \"max\": 1,\n        \"num_unique_values\": 2,\n        \"samples\": [\n          0,\n          1\n        ],\n        \"semantic_type\": \"\",\n        \"description\": \"\"\n      }\n    },\n    {\n      \"column\": \"username\",\n      \"properties\": {\n        \"dtype\": \"category\",\n        \"num_unique_values\": 200,\n        \"samples\": [\n          \"e_iiini82@company.com\",\n          \"e_anjot84@company.com\"\n        ],\n        \"semantic_type\": \"\",\n        \"description\": \"\"\n      }\n    },\n    {\n      \"column\": \"department\",\n      \"properties\": {\n        \"dtype\": \"category\",\n        \"num_unique_values\": 6,\n        \"samples\": [\n          \"HR\",\n          \"Marketing\"\n        ],\n        \"semantic_type\": \"\",\n        \"description\": \"\"\n      }\n    },\n    {\n      \"column\": \"role\",\n      \"properties\": {\n        \"dtype\": \"category\",\n        \"num_unique_values\": 16,\n        \"samples\": [\n          \"Recruiter\",\n          \"SEO Specialist\"\n        ],\n        \"semantic_type\": \"\",\n        \"description\": \"\"\n      }\n    },\n    {\n      \"column\": \"device_type\",\n      \"properties\": {\n        \"dtype\": \"category\",\n        \"num_unique_values\": 4,\n        \"samples\": [\n          \"Desktop\",\n          \"Server\"\n        ],\n        \"semantic_type\": \"\",\n        \"description\": \"\"\n      }\n    },\n    {\n      \"column\": \"os\",\n      \"properties\": {\n        \"dtype\": \"category\",\n        \"num_unique_values\": 5,\n        \"samples\": [\n          \"Ubuntu 20.04\",\n          \"Windows 11\"\n        ],\n        \"semantic_type\": \"\",\n        \"description\": \"\"\n      }\n    }\n  ]\n}"
            }
          },
          "metadata": {},
          "execution_count": 4
        }
      ]
    },
    {
      "cell_type": "code",
      "source": [
        "# -------------------------------\n",
        "# 3. Drop unnecessary columns\n",
        "# -------------------------------\n",
        "drop_cols = [\"log_id\", \"user_id\", \"device_id\", \"username\", \"src_ip\", \"dst_ip\"]\n",
        "df = df.drop(columns=drop_cols)\n",
        "df.columns"
      ],
      "metadata": {
        "colab": {
          "base_uri": "https://localhost:8080/"
        },
        "id": "kIbKxM8mgPLz",
        "outputId": "ccb758b5-7114-4468-de87-dd50e34c6238"
      },
      "execution_count": null,
      "outputs": [
        {
          "output_type": "execute_result",
          "data": {
            "text/plain": [
              "Index(['timestamp', 'protocol', 'port', 'bytes_sent', 'bytes_received',\n",
              "       'duration', 'is_anomaly', 'department', 'role', 'device_type', 'os'],\n",
              "      dtype='object')"
            ]
          },
          "metadata": {},
          "execution_count": 5
        }
      ]
    },
    {
      "cell_type": "code",
      "source": [],
      "metadata": {
        "id": "gmMQbLN7iN-5"
      },
      "execution_count": null,
      "outputs": []
    },
    {
      "cell_type": "code",
      "source": [],
      "metadata": {
        "id": "TjzDMyvMgbfh"
      },
      "execution_count": null,
      "outputs": []
    },
    {
      "cell_type": "code",
      "source": [
        "\n",
        "# -------------------------------\n",
        "# 4. Extract hour from timestamp\n",
        "# -------------------------------\n",
        "df[\"timestamp\"] = pd.to_datetime(df[\"timestamp\"], errors=\"coerce\")\n",
        "df[\"hour\"] = df[\"timestamp\"].dt.hour"
      ],
      "metadata": {
        "id": "DJebNL5ygV35"
      },
      "execution_count": null,
      "outputs": []
    },
    {
      "cell_type": "code",
      "source": [
        "# -------------------------------\n",
        "# 5. Define feature groups\n",
        "# -------------------------------\n",
        "num_cols = [\"bytes_sent\", \"bytes_received\", \"duration\", \"hour\"]\n",
        "cat_cols = [\"protocol\", \"port\", \"department\", \"role\", \"device_type\", \"os\"]"
      ],
      "metadata": {
        "id": "JKmpbTnjiOwE"
      },
      "execution_count": null,
      "outputs": []
    },
    {
      "cell_type": "code",
      "source": [
        "# Define X and y\n",
        "X = df.drop(columns=[\"is_anomaly\", \"timestamp\"])\n",
        "y = df[\"is_anomaly\"].astype(int)\n",
        "\n",
        "# Train-test split\n",
        "X_train, X_test, y_train, y_test = train_test_split(\n",
        "    X, y, test_size=0.3, stratify=y, random_state=42\n",
        ")\n",
        "\n",
        "print(\"Train shape:\", X_train.shape, \" Test shape:\", X_test.shape)\n"
      ],
      "metadata": {
        "colab": {
          "base_uri": "https://localhost:8080/"
        },
        "id": "AcSKcLQ3i4u-",
        "outputId": "d9ec72b3-00b2-4d6d-82e4-5a3f2789ac17"
      },
      "execution_count": null,
      "outputs": [
        {
          "output_type": "stream",
          "name": "stdout",
          "text": [
            "Train shape: (7000, 10)  Test shape: (3000, 10)\n"
          ]
        }
      ]
    },
    {
      "cell_type": "code",
      "source": [
        "from sklearn.preprocessing import OneHotEncoder\n",
        "from sklearn.impute import SimpleImputer\n",
        "\n",
        "numeric_transformer = Pipeline(steps=[\n",
        "    (\"imputer\", SimpleImputer(strategy=\"median\"))\n",
        "])\n",
        "\n",
        "categorical_transformer = Pipeline(steps=[\n",
        "    (\"imputer\", SimpleImputer(strategy=\"most_frequent\")),\n",
        "    (\"onehot\", OneHotEncoder(handle_unknown=\"ignore\", sparse_output=False))\n",
        "])\n",
        "\n",
        "preprocessor = ColumnTransformer(\n",
        "    transformers=[\n",
        "        (\"num\", numeric_transformer, num_cols),\n",
        "        (\"cat\", categorical_transformer, cat_cols)\n",
        "    ]\n",
        ")\n"
      ],
      "metadata": {
        "id": "kzsGPI3wjSdh"
      },
      "execution_count": null,
      "outputs": []
    },
    {
      "cell_type": "code",
      "source": [
        "from xgboost import XGBClassifier\n",
        "from sklearn.pipeline import Pipeline\n",
        "from sklearn.metrics import accuracy_score, precision_score, recall_score, f1_score, roc_auc_score\n",
        "from sklearn.model_selection import RandomizedSearchCV\n",
        "import numpy as np\n",
        "import pandas as pd\n",
        "\n",
        "# -------------------------------\n",
        "# Default XGBoost Model\n",
        "# -------------------------------\n",
        "clf_xgb = Pipeline(steps=[\n",
        "    (\"preprocessor\", preprocessor),\n",
        "    (\"classifier\", XGBClassifier(\n",
        "        n_estimators=200,\n",
        "        max_depth=8,\n",
        "        learning_rate=0.1,\n",
        "        subsample=0.8,\n",
        "        colsample_bytree=0.8,\n",
        "        random_state=42,\n",
        "        use_label_encoder=False,\n",
        "        eval_metric=\"logloss\"\n",
        "    ))\n",
        "])\n",
        "\n",
        "clf_xgb.fit(X_train, y_train)\n",
        "y_pred = clf_xgb.predict(X_test)\n",
        "y_proba = clf_xgb.predict_proba(X_test)[:,1]\n",
        "\n",
        "default_results = {\n",
        "    \"Model\": \"XGBoost (Default)\",\n",
        "    \"Accuracy\": accuracy_score(y_test, y_pred),\n",
        "    \"Precision\": precision_score(y_test, y_pred),\n",
        "    \"Recall\": recall_score(y_test, y_pred),\n",
        "    \"F1\": f1_score(y_test, y_pred),\n",
        "    \"ROC-AUC\": roc_auc_score(y_test, y_proba)\n",
        "}\n",
        "print(pd.DataFrame([default_results]))"
      ],
      "metadata": {
        "colab": {
          "base_uri": "https://localhost:8080/"
        },
        "id": "5iC6LubqjSno",
        "outputId": "4659f3ff-2120-45fd-c0e9-9c1ecba19d9e"
      },
      "execution_count": null,
      "outputs": [
        {
          "output_type": "stream",
          "name": "stderr",
          "text": [
            "/usr/local/lib/python3.12/dist-packages/xgboost/training.py:183: UserWarning: [14:37:26] WARNING: /workspace/src/learner.cc:738: \n",
            "Parameters: { \"use_label_encoder\" } are not used.\n",
            "\n",
            "  bst.update(dtrain, iteration=i, fobj=obj)\n"
          ]
        },
        {
          "output_type": "stream",
          "name": "stdout",
          "text": [
            "               Model  Accuracy  Precision    Recall       F1   ROC-AUC\n",
            "0  XGBoost (Default)  0.899333   0.933121  0.510453  0.65991  0.751592\n"
          ]
        }
      ]
    },
    {
      "cell_type": "code",
      "source": [
        "# -------------------------------\n",
        "# Hyperparameter Tuning\n",
        "# -------------------------------\n",
        "param_dist = {\n",
        "    \"classifier__n_estimators\": [100, 200, 300],\n",
        "    \"classifier__max_depth\": [5, 8, 10, 12],\n",
        "    \"classifier__learning_rate\": [0.01, 0.05, 0.1, 0.2],\n",
        "    \"classifier__subsample\": [0.8, 1.0],\n",
        "    \"classifier__colsample_bytree\": [0.8, 1.0]\n",
        "}\n",
        "\n",
        "search = RandomizedSearchCV(\n",
        "    clf_xgb, param_distributions=param_dist,\n",
        "    n_iter=15, scoring=\"f1\", cv=3, n_jobs=-1, verbose=2, random_state=42\n",
        ")\n",
        "search.fit(X_train, y_train)\n",
        "\n",
        "print(\"Best params:\", search.best_params_)\n",
        "print(\"Best CV F1:\", search.best_score_)\n",
        "\n",
        "best_model = search.best_estimator_\n",
        "\n",
        "# -------------------------------\n",
        "# Evaluate Tuned Model\n",
        "# -------------------------------\n",
        "y_pred_tuned = best_model.predict(X_test)\n",
        "y_proba_tuned = best_model.predict_proba(X_test)[:,1]\n",
        "\n",
        "tuned_results = {\n",
        "    \"Model\": \"XGBoost (Tuned)\",\n",
        "    \"Accuracy\": accuracy_score(y_test, y_pred_tuned),\n",
        "    \"Precision\": precision_score(y_test, y_pred_tuned),\n",
        "    \"Recall\": recall_score(y_test, y_pred_tuned),\n",
        "    \"F1\": f1_score(y_test, y_pred_tuned),\n",
        "    \"ROC-AUC\": roc_auc_score(y_test, y_proba_tuned)\n",
        "}\n",
        "print(pd.DataFrame([tuned_results]))"
      ],
      "metadata": {
        "colab": {
          "base_uri": "https://localhost:8080/"
        },
        "id": "RaTOO4Qkj_yW",
        "outputId": "6860ac9e-2795-4598-ccb6-9a65a58216be"
      },
      "execution_count": null,
      "outputs": [
        {
          "output_type": "stream",
          "name": "stdout",
          "text": [
            "Fitting 3 folds for each of 15 candidates, totalling 45 fits\n"
          ]
        },
        {
          "output_type": "stream",
          "name": "stderr",
          "text": [
            "/usr/local/lib/python3.12/dist-packages/xgboost/training.py:183: UserWarning: [14:38:37] WARNING: /workspace/src/learner.cc:738: \n",
            "Parameters: { \"use_label_encoder\" } are not used.\n",
            "\n",
            "  bst.update(dtrain, iteration=i, fobj=obj)\n"
          ]
        },
        {
          "output_type": "stream",
          "name": "stdout",
          "text": [
            "Best params: {'classifier__subsample': 0.8, 'classifier__n_estimators': 300, 'classifier__max_depth': 10, 'classifier__learning_rate': 0.01, 'classifier__colsample_bytree': 1.0}\n",
            "Best CV F1: 0.6811864680143355\n",
            "             Model  Accuracy  Precision    Recall        F1   ROC-AUC\n",
            "0  XGBoost (Tuned)  0.903667   0.986348  0.503484  0.666667  0.741182\n"
          ]
        }
      ]
    },
    {
      "cell_type": "code",
      "source": [
        "# -------------------------------\n",
        "# Find Best Threshold (for tuned model)\n",
        "# -------------------------------\n",
        "thresholds = np.linspace(0.1, 0.9, 9)\n",
        "threshold_results = []\n",
        "\n",
        "for t in thresholds:\n",
        "    y_pred_thresh = (y_proba_tuned >= t).astype(int)\n",
        "    threshold_results.append({\n",
        "        \"Threshold\": t,\n",
        "        \"Precision\": precision_score(y_test, y_pred_thresh),\n",
        "        \"Recall\": recall_score(y_test, y_pred_thresh),\n",
        "        \"F1\": f1_score(y_test, y_pred_thresh)\n",
        "    })\n",
        "\n",
        "threshold_df = pd.DataFrame(threshold_results)\n",
        "print(threshold_df)\n",
        "\n",
        "best_thresh = threshold_df.loc[threshold_df[\"F1\"].idxmax(), \"Threshold\"]\n",
        "print(\"Best Threshold by F1:\", best_thresh)"
      ],
      "metadata": {
        "colab": {
          "base_uri": "https://localhost:8080/"
        },
        "id": "lI1FtD_YkIay",
        "outputId": "e0d59ab8-e337-466b-e3a6-5eebbe1a3f64"
      },
      "execution_count": null,
      "outputs": [
        {
          "output_type": "stream",
          "name": "stdout",
          "text": [
            "   Threshold  Precision    Recall        F1\n",
            "0        0.1   0.285714  0.679443  0.402269\n",
            "1        0.2   0.757500  0.527875  0.622177\n",
            "2        0.3   0.930380  0.512195  0.660674\n",
            "3        0.4   0.976510  0.506969  0.667431\n",
            "4        0.5   0.986348  0.503484  0.666667\n",
            "5        0.6   0.986207  0.498258  0.662037\n",
            "6        0.7   0.989399  0.487805  0.653442\n",
            "7        0.8   0.989209  0.479094  0.645540\n",
            "8        0.9   0.994975  0.344948  0.512290\n",
            "Best Threshold by F1: 0.4\n"
          ]
        }
      ]
    },
    {
      "cell_type": "code",
      "source": [
        "import joblib\n",
        "import numpy as np\n",
        "from sklearn.base import BaseEstimator, ClassifierMixin\n",
        "from xgboost import XGBClassifier\n",
        "\n",
        "# Custom wrapper with threshold\n",
        "class ThresholdClassifier(BaseEstimator, ClassifierMixin):\n",
        "    def __init__(self, base_model, threshold=0.4):\n",
        "        self.base_model = base_model\n",
        "        self.threshold = threshold\n",
        "\n",
        "    def fit(self, X, y):\n",
        "        self.base_model.fit(X, y)\n",
        "        return self\n",
        "\n",
        "    def predict(self, X):\n",
        "        proba = self.base_model.predict_proba(X)[:, 1]\n",
        "        return (proba >= self.threshold).astype(int)\n",
        "\n",
        "    def predict_proba(self, X):\n",
        "        return self.base_model.predict_proba(X)  # keep raw probabilities\n",
        "\n",
        "# Assume best_xgb_model = your tuned pipeline from RandomizedSearchCV\n",
        "# and best_xgb_threshold = the threshold you found with F1 score\n",
        "wrapped_xgb = ThresholdClassifier(base_model=best_model, threshold=0.4)\n",
        "wrapped_xgb.fit(X_train, y_train)\n",
        "\n",
        "# Save to Drive\n",
        "joblib.dump(wrapped_xgb, \"/content/drive/MyDrive/cybersecurity_data/models/xgb_wrapped.joblib\")\n",
        "\n",
        "print(\"✅ Wrapped XGBoost model saved with threshold baked in.\")\n"
      ],
      "metadata": {
        "colab": {
          "base_uri": "https://localhost:8080/"
        },
        "id": "6CtrPf7zkosK",
        "outputId": "dabe1144-1e52-4db5-fbb6-34f2d5c54785"
      },
      "execution_count": null,
      "outputs": [
        {
          "output_type": "stream",
          "name": "stderr",
          "text": [
            "/usr/local/lib/python3.12/dist-packages/xgboost/training.py:183: UserWarning: [15:00:57] WARNING: /workspace/src/learner.cc:738: \n",
            "Parameters: { \"use_label_encoder\" } are not used.\n",
            "\n",
            "  bst.update(dtrain, iteration=i, fobj=obj)\n"
          ]
        },
        {
          "output_type": "stream",
          "name": "stdout",
          "text": [
            "✅ Wrapped XGBoost model saved with threshold baked in.\n"
          ]
        }
      ]
    },
    {
      "cell_type": "code",
      "source": [
        "!rm /content/drive/MyDrive/cybersecurity_data/models/xgb_best_threshold.txt\n"
      ],
      "metadata": {
        "id": "eMnf9o6fpqWH"
      },
      "execution_count": null,
      "outputs": []
    },
    {
      "cell_type": "code",
      "source": [
        "!rm /content/drive/MyDrive/cybersecurity_data/models/xgb_tuned_model.joblib"
      ],
      "metadata": {
        "id": "Sf21OVFzpwFa"
      },
      "execution_count": null,
      "outputs": []
    },
    {
      "cell_type": "code",
      "source": [
        "ls /content/drive/MyDrive/cybersecurity_data/models/"
      ],
      "metadata": {
        "colab": {
          "base_uri": "https://localhost:8080/"
        },
        "id": "HyVH_l9pl6iN",
        "outputId": "9e68b997-62c5-4e5d-a877-2860ffaadf5f"
      },
      "execution_count": null,
      "outputs": [
        {
          "output_type": "stream",
          "name": "stdout",
          "text": [
            "rf_threshold_0_4.joblib  xgb_wrapped.joblib\n"
          ]
        }
      ]
    },
    {
      "cell_type": "code",
      "source": [
        "import joblib\n",
        "\n",
        "save_path = \"/content/drive/MyDrive/cybersecurity_data/models/\"\n",
        "\n",
        "# Save tuned XGBoost\n",
        "joblib.dump(best_model, save_path + \"xgb_tuned_model.joblib\")\n",
        "with open(save_path + \"xgb_best_threshold.txt\", \"w\") as f:\n",
        "    f.write(str(best_model))\n",
        "\n",
        "print(\"✅ Models & thresholds saved in Google Drive:\", save_path)"
      ],
      "metadata": {
        "colab": {
          "base_uri": "https://localhost:8080/"
        },
        "id": "fI1IlJVNkpGa",
        "outputId": "11c5dbb8-7890-4435-d85d-7de85c984421"
      },
      "execution_count": null,
      "outputs": [
        {
          "output_type": "stream",
          "name": "stdout",
          "text": [
            "✅ Models & thresholds saved in Google Drive: /content/drive/MyDrive/cybersecurity_data/models/\n"
          ]
        }
      ]
    },
    {
      "cell_type": "code",
      "source": [],
      "metadata": {
        "id": "nTM9EFrmouyU"
      },
      "execution_count": null,
      "outputs": []
    },
    {
      "cell_type": "code",
      "source": [
        "ls /content/drive/MyDrive/cybersecurity_data/models/"
      ],
      "metadata": {
        "colab": {
          "base_uri": "https://localhost:8080/"
        },
        "id": "dU3Q0M3KmNUy",
        "outputId": "6ae743a6-6398-4770-a2f5-b7ffe9c2378f"
      },
      "execution_count": null,
      "outputs": [
        {
          "output_type": "stream",
          "name": "stdout",
          "text": [
            "rf_threshold_0_4.joblib  xgb_best_threshold.txt  xgb_tuned_model.joblib\n"
          ]
        }
      ]
    },
    {
      "cell_type": "code",
      "source": [
        "import gradio as gr\n",
        "import pandas as pd\n",
        "import joblib\n",
        "import os\n",
        "\n",
        "# -------------------------------\n",
        "# Load models from Drive\n",
        "# -------------------------------\n",
        "model_path = \"/content/drive/MyDrive/cybersecurity_data/models\"\n",
        "\n",
        "rf_model = joblib.load(os.path.join(model_path, \"rf_threshold_0_4.joblib\"))\n",
        "xgb_model = joblib.load(os.path.join(model_path, \"xgb_wrapped.joblib\"))\n",
        "\n",
        "# -------------------------------\n",
        "# Define dropdown options (from dataset categories)\n",
        "# -------------------------------\n",
        "protocol_options = [\"SSH\", \"FTP\", \"SMTP\", \"HTTP\", \"HTTPS\"]\n",
        "department_options = [\"HR\", \"Finance\", \"Engineering\", \"Sales\", \"IT\", \"Marketing\"]\n",
        "role_options = [\"Analyst\", \"Manager\", \"Engineer\", \"Admin\", \"Recruiter\", \"SEO Specialist\"]\n",
        "device_type_options = [\"Laptop\", \"Desktop\", \"Server\", \"Firewall\", \"Router\"]\n",
        "os_options = [\"Ubuntu 20.04\", \"Ubuntu 22.04\", \"Windows 10\", \"Windows 11\", \"MacOS\"]\n",
        "\n",
        "# -------------------------------\n",
        "# Prediction function\n",
        "# -------------------------------\n",
        "def predict(model_choice, bytes_sent, bytes_received, duration, hour,\n",
        "            protocol, port, department, role, device_type, os_input):\n",
        "\n",
        "    # Build dataframe in same schema as training\n",
        "    input_data = pd.DataFrame([{\n",
        "        \"bytes_sent\": bytes_sent,\n",
        "        \"bytes_received\": bytes_received,\n",
        "        \"duration\": duration,\n",
        "        \"hour\": hour,\n",
        "        \"protocol\": protocol,\n",
        "        \"port\": port,\n",
        "        \"department\": department,\n",
        "        \"role\": role,\n",
        "        \"device_type\": device_type,\n",
        "        \"os\": os_input\n",
        "    }])\n",
        "\n",
        "    # Select model\n",
        "    if model_choice == \"Random Forest\":\n",
        "        pred = rf_model.predict(input_data)[0]\n",
        "        proba = rf_model.predict_proba(input_data)[:, 1][0]\n",
        "    else:\n",
        "        pred = xgb_model.predict(input_data)[0]\n",
        "        proba = xgb_model.predict_proba(input_data)[:, 1][0]\n",
        "\n",
        "    return (\"⚠️ Anomaly\" if pred == 1 else \"✅ Normal\"), float(proba)\n",
        "\n",
        "# -------------------------------\n",
        "# Build Gradio Interface\n",
        "# -------------------------------\n",
        "demo = gr.Interface(\n",
        "    fn=predict,\n",
        "    inputs=[\n",
        "        gr.Dropdown([\"Random Forest\", \"XGBoost\"], label=\"Choose Model\"),\n",
        "        gr.Number(label=\"Bytes Sent\"),\n",
        "        gr.Number(label=\"Bytes Received\"),\n",
        "        gr.Number(label=\"Duration (seconds)\"),\n",
        "        gr.Slider(0, 23, step=1, label=\"Hour\"),\n",
        "        gr.Dropdown(protocol_options, label=\"Protocol\"),\n",
        "        gr.Number(label=\"Port\"),\n",
        "        gr.Dropdown(department_options, label=\"Department\"),\n",
        "        gr.Dropdown(role_options, label=\"Role\"),\n",
        "        gr.Dropdown(device_type_options, label=\"Device Type\"),\n",
        "        gr.Dropdown(os_options, label=\"Operating System\")\n",
        "    ],\n",
        "    outputs=[\n",
        "        gr.Label(label=\"Prediction\"),\n",
        "        gr.Number(label=\"Anomaly Probability\")\n",
        "    ],\n",
        "    title=\"🔒 Cybersecurity Anomaly Detection\",\n",
        "    description=\"Predict anomalies using either Random Forest (threshold baked in) or tuned XGBoost (threshold baked in).\"\n",
        ")\n",
        "\n",
        "demo.launch(share=True)\n"
      ],
      "metadata": {
        "colab": {
          "base_uri": "https://localhost:8080/",
          "height": 610
        },
        "id": "M9RoJZnemNl1",
        "outputId": "11993717-f907-42f2-d43c-75d64c77c02b"
      },
      "execution_count": null,
      "outputs": [
        {
          "output_type": "stream",
          "name": "stdout",
          "text": [
            "Colab notebook detected. To show errors in colab notebook, set debug=True in launch()\n",
            "* Running on public URL: https://c7daca722abd634156.gradio.live\n",
            "\n",
            "This share link expires in 1 week. For free permanent hosting and GPU upgrades, run `gradio deploy` from the terminal in the working directory to deploy to Hugging Face Spaces (https://huggingface.co/spaces)\n"
          ]
        },
        {
          "output_type": "display_data",
          "data": {
            "text/plain": [
              "<IPython.core.display.HTML object>"
            ],
            "text/html": [
              "<div><iframe src=\"https://c7daca722abd634156.gradio.live\" width=\"100%\" height=\"500\" allow=\"autoplay; camera; microphone; clipboard-read; clipboard-write;\" frameborder=\"0\" allowfullscreen></iframe></div>"
            ]
          },
          "metadata": {}
        },
        {
          "output_type": "execute_result",
          "data": {
            "text/plain": []
          },
          "metadata": {},
          "execution_count": 39
        }
      ]
    }
  ]
}